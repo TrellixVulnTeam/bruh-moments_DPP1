{
 "cells": [
  {
   "cell_type": "markdown",
   "id": "93acc865",
   "metadata": {},
   "source": [
    "# Two-Sum"
   ]
  },
  {
   "cell_type": "markdown",
   "id": "7df71a1c",
   "metadata": {},
   "source": [
    "## Advice"
   ]
  },
  {
   "cell_type": "markdown",
   "id": "7282ec90",
   "metadata": {},
   "source": [
    "Pay attention to requirements: have tests set up\n",
    "\n",
    "User `range(5)` to get `[0, 1, 2, 3, 4]`"
   ]
  },
  {
   "cell_type": "markdown",
   "id": "9fcfecd5",
   "metadata": {},
   "source": [
    "## My solution"
   ]
  },
  {
   "cell_type": "code",
   "execution_count": null,
   "id": "524502b5",
   "metadata": {},
   "outputs": [],
   "source": [
    "class Solution:\n",
    "    def twoSum(self, nums: List[int], target: int) -> List[int]:\n",
    "        for i0 in range(len(nums)):\n",
    "            for i1 in range(len(nums)):\n",
    "                if nums[i0] + nums[i1] == target and i0 != i1:\n",
    "                    return [i0, i1]"
   ]
  },
  {
   "cell_type": "markdown",
   "id": "9738dcdf",
   "metadata": {},
   "source": [
    "## Solution"
   ]
  },
  {
   "cell_type": "markdown",
   "id": "1426abe5",
   "metadata": {},
   "source": [
    "## Rough work"
   ]
  },
  {
   "cell_type": "code",
   "execution_count": 1,
   "id": "1904cc70",
   "metadata": {},
   "outputs": [],
   "source": [
    "a = [10, 11, 12, 13, 14]"
   ]
  },
  {
   "cell_type": "code",
   "execution_count": 6,
   "id": "4c737b6d",
   "metadata": {},
   "outputs": [
    {
     "name": "stdout",
     "output_type": "stream",
     "text": [
      "0\n",
      "1\n",
      "2\n",
      "3\n",
      "4\n"
     ]
    }
   ],
   "source": [
    "for i in range(len(a)):\n",
    "    "
   ]
  },
  {
   "cell_type": "code",
   "execution_count": 26,
   "id": "fae1845e",
   "metadata": {},
   "outputs": [],
   "source": [
    "def twoSum(nums: list[int], target: int) -> list[int]:\n",
    "        for i0 in range(len(nums)):\n",
    "            for i1 in range(len(nums)):\n",
    "                if nums[i0] + nums[i1] == target and i0 != i1:\n",
    "                    return [i0, i1]\n",
    "                    "
   ]
  },
  {
   "cell_type": "code",
   "execution_count": 27,
   "id": "4afdaa1a",
   "metadata": {},
   "outputs": [
    {
     "data": {
      "text/plain": [
       "[1, 2]"
      ]
     },
     "execution_count": 27,
     "metadata": {},
     "output_type": "execute_result"
    }
   ],
   "source": [
    "twoSum(nums=[3,2,4], target=6)"
   ]
  },
  {
   "cell_type": "code",
   "execution_count": null,
   "id": "6646c08e",
   "metadata": {},
   "outputs": [],
   "source": []
  }
 ],
 "metadata": {
  "kernelspec": {
   "display_name": "Python 3",
   "language": "python",
   "name": "python3"
  },
  "language_info": {
   "codemirror_mode": {
    "name": "ipython",
    "version": 3
   },
   "file_extension": ".py",
   "mimetype": "text/x-python",
   "name": "python",
   "nbconvert_exporter": "python",
   "pygments_lexer": "ipython3",
   "version": "3.9.2"
  }
 },
 "nbformat": 4,
 "nbformat_minor": 5
}
