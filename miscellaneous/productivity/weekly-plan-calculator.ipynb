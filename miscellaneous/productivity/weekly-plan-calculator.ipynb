{
 "cells": [
  {
   "cell_type": "markdown",
   "id": "1184a647",
   "metadata": {},
   "source": [
    "# Weekly plan calculator"
   ]
  },
  {
   "cell_type": "code",
   "execution_count": 8,
   "id": "ebec25c3",
   "metadata": {},
   "outputs": [],
   "source": [
    "from IPython.display import clear_output"
   ]
  },
  {
   "cell_type": "markdown",
   "id": "3b6bd22b",
   "metadata": {},
   "source": [
    "## Video plan\n",
    "Find how many mb of video to do a day"
   ]
  },
  {
   "cell_type": "code",
   "execution_count": 22,
   "id": "55112414",
   "metadata": {},
   "outputs": [],
   "source": [
    "def convert_day(day:int):\n",
    "    \"\"\"returns string date given int, 0=sunday, 6=saturday\"\"\"\n",
    "    if day == 0:\n",
    "        return \"Sunday\"\n",
    "    elif day == 1:\n",
    "        return \"Monday\"\n",
    "    elif day == 2:\n",
    "        return \"Tuesday\"\n",
    "    elif day == 3:\n",
    "        return \"Wednesday\"\n",
    "    elif day == 4:\n",
    "        return \"Thursday\"\n",
    "    elif day == 5:\n",
    "        return \"Friday\"\n",
    "    elif day == 6:\n",
    "        return \"Saturday\"\n",
    "    \n",
    "def get_video_size(vid_number:int)->str:\n",
    "    return input(f\"size of video {vid_number} (mb):\")\n",
    "def which_day(total:int, start_vid=1):\n",
    "    \"\"\"\n",
    "    interactive calculator\n",
    "    'stop' to stop\n",
    "    \"\"\"\n",
    "    daily = int(float(total)/7)\n",
    "    acc_daily = daily\n",
    "    day = 0\n",
    "    \n",
    "    while True:\n",
    "        v = get_video_size(start_vid)\n",
    "        if v == \"stop\":\n",
    "            break\n",
    "        if v == \"skip\":\n",
    "            day += 1\n",
    "            acc_daily = daily\n",
    "            v = get_video_size(start_vid)\n",
    "        acc_daily -= int(v)\n",
    "        clear_output()\n",
    "        print(f\"vid {start_vid} on {convert_day(day)}, {acc_daily} left\", end='\\r')\n",
    "        start_vid += 1\n",
    "        "
   ]
  },
  {
   "cell_type": "code",
   "execution_count": 24,
   "id": "f53fd2f2",
   "metadata": {},
   "outputs": [
    {
     "name": "stdout",
     "output_type": "stream",
     "text": [
      "vid 8 on Wednesday, 38 left\r"
     ]
    },
    {
     "name": "stdin",
     "output_type": "stream",
     "text": [
      "size of video 9 (mb): stop\n"
     ]
    }
   ],
   "source": [
    "which_day(816)"
   ]
  },
  {
   "cell_type": "code",
   "execution_count": null,
   "id": "c25bd5af",
   "metadata": {},
   "outputs": [],
   "source": []
  }
 ],
 "metadata": {
  "kernelspec": {
   "display_name": "Python 3",
   "language": "python",
   "name": "python3"
  },
  "language_info": {
   "codemirror_mode": {
    "name": "ipython",
    "version": 3
   },
   "file_extension": ".py",
   "mimetype": "text/x-python",
   "name": "python",
   "nbconvert_exporter": "python",
   "pygments_lexer": "ipython3",
   "version": "3.9.2"
  }
 },
 "nbformat": 4,
 "nbformat_minor": 5
}
