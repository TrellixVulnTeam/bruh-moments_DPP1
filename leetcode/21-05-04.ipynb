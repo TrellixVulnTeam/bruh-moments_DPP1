{
 "cells": [
  {
   "cell_type": "markdown",
   "id": "30e0a878",
   "metadata": {},
   "source": [
    "# Non-Decreasing Array"
   ]
  },
  {
   "cell_type": "markdown",
   "id": "b7a07ead",
   "metadata": {},
   "source": [
    "## Brainstorming\n",
    "\n",
    "Cases:\n",
    "- 3 1 2 ...\n",
    "- 2 3 1 2 ... X\n",
    "- 0 2 4 3 3 ... \n",
    "- 0 4 4 3 3 ... X\n",
    "- 0 4 2 4 3 3 ... X\n",
    "- [5, 7, 1, 8] True\n"
   ]
  },
  {
   "cell_type": "code",
   "execution_count": 89,
   "id": "3f193f71",
   "metadata": {},
   "outputs": [],
   "source": [
    "def checkPossibility(nums: list[int]) -> bool:\n",
    "    def increasing_until(nums: list[int], boolean=False) -> int or False:\n",
    "        \"\"\"returns index of the peak before failure, else False\"\"\"\n",
    "        acc = nums[0]\n",
    "        for i in range(len(nums)):\n",
    "            if acc > nums[i]:\n",
    "                return i-1 if not boolean else False\n",
    "            acc = nums[i]\n",
    "        return True\n",
    "    i = increasing_until(nums)\n",
    "    if i is True:\n",
    "        return True\n",
    "    else:\n",
    "        return increasing_until(nums[0:i]+nums[i+1:], True) or increasing_until(nums[0:i+1]+nums[i+2:], True)\n",
    "    "
   ]
  },
  {
   "cell_type": "code",
   "execution_count": 61,
   "id": "e710d1e4",
   "metadata": {},
   "outputs": [],
   "source": [
    "a = [1, 2, 3, 4]\n"
   ]
  },
  {
   "cell_type": "code",
   "execution_count": 62,
   "id": "c49c48d2",
   "metadata": {},
   "outputs": [
    {
     "data": {
      "text/plain": [
       "[1, 3, 4]"
      ]
     },
     "execution_count": 62,
     "metadata": {},
     "output_type": "execute_result"
    }
   ],
   "source": [
    "a"
   ]
  },
  {
   "cell_type": "code",
   "execution_count": 52,
   "id": "521bdd21",
   "metadata": {
    "jupyter": {
     "source_hidden": true
    },
    "tags": []
   },
   "outputs": [],
   "source": [
    "def checkPossibility(nums: list[int]) -> bool:\n",
    "    prev = None\n",
    "    second_prev = None\n",
    "    largest = None\n",
    "    mistakes = 0\n",
    "    for i in nums:\n",
    "        if prev is None and largest is None:\n",
    "            prev = i\n",
    "            largest = i\n",
    "        elif prev > i or largest > i:\n",
    "            mistakes += 1\n",
    "            prev = second_prev if second_prev is not None else i\n",
    "            largest = second_prev if second_prev is not None else i\n",
    "\n",
    "#             mistakes += 1 if prev > i or largest > i else 0\n",
    "            if mistakes >= 2:\n",
    "                return False\n",
    "        else:\n",
    "            second_prev = prev\n",
    "            prev = i\n",
    "            largest = i if i > largest else largest\n",
    "    return True\n",
    "            \n",
    "            \n",
    "        "
   ]
  },
  {
   "cell_type": "code",
   "execution_count": 37,
   "id": "d91bd1cc",
   "metadata": {},
   "outputs": [
    {
     "data": {
      "text/plain": [
       "[1, 2]"
      ]
     },
     "execution_count": 37,
     "metadata": {},
     "output_type": "execute_result"
    }
   ],
   "source": [
    "[1, 2, 3][0:2]"
   ]
  },
  {
   "cell_type": "code",
   "execution_count": 96,
   "id": "c23f102c",
   "metadata": {},
   "outputs": [
    {
     "data": {
      "text/plain": [
       "True"
      ]
     },
     "execution_count": 96,
     "metadata": {},
     "output_type": "execute_result"
    }
   ],
   "source": [
    "checkPossibility([5, 7, 1, 8])"
   ]
  },
  {
   "cell_type": "code",
   "execution_count": 2,
   "id": "463e2215",
   "metadata": {},
   "outputs": [
    {
     "name": "stdout",
     "output_type": "stream",
     "text": [
      "0\n",
      "1\n",
      "2\n"
     ]
    }
   ],
   "source": [
    "for a in range(3):\n",
    "    print(a)"
   ]
  },
  {
   "cell_type": "code",
   "execution_count": null,
   "id": "a1acea60",
   "metadata": {},
   "outputs": [],
   "source": []
  }
 ],
 "metadata": {
  "kernelspec": {
   "display_name": "Python 3",
   "language": "python",
   "name": "python3"
  },
  "language_info": {
   "codemirror_mode": {
    "name": "ipython",
    "version": 3
   },
   "file_extension": ".py",
   "mimetype": "text/x-python",
   "name": "python",
   "nbconvert_exporter": "python",
   "pygments_lexer": "ipython3",
   "version": "3.9.2"
  }
 },
 "nbformat": 4,
 "nbformat_minor": 5
}
