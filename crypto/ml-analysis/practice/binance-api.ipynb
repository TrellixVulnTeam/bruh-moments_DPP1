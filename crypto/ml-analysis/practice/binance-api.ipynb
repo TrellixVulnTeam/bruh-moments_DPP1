{
 "cells": [
  {
   "cell_type": "markdown",
   "id": "6a759ab5",
   "metadata": {},
   "source": [
    "# Binance api\n",
    "\n",
    "Purpose: testing binance api"
   ]
  },
  {
   "cell_type": "code",
   "execution_count": 2,
   "id": "46d2381e",
   "metadata": {},
   "outputs": [],
   "source": [
    "# Imports\n",
    "import pandas as pd\n",
    "from binance.client import Client\n",
    "import datetime\n",
    "import json"
   ]
  },
  {
   "cell_type": "code",
   "execution_count": 14,
   "id": "e72eefd1",
   "metadata": {},
   "outputs": [
    {
     "name": "stdout",
     "output_type": "stream",
     "text": [
      "apikey\n"
     ]
    }
   ],
   "source": [
    "## Reading Json\n",
    "with open('../api-keys/api-keys.txt') as json_file:\n",
    "    data = json.load(json_file)\n",
    "    p = data[\"another\"][\"api\"]\n",
    "    print(p)"
   ]
  },
  {
   "cell_type": "code",
   "execution_count": 16,
   "id": "7b260713",
   "metadata": {},
   "outputs": [],
   "source": [
    "def get_api_keys(site: str, api_type: str)->str:\n",
    "    \"\"\"\n",
    "    gets api keys stored in ../api-keys/api-keys.txt\n",
    "    site: 'binance'\n",
    "    api_type: 'api', 'secret'\n",
    "    \"\"\"\n",
    "    with open('../api-keys/api-keys.txt') as json_file:\n",
    "        return json.load(json_file)[site][api_type]\n"
   ]
  },
  {
   "cell_type": "code",
   "execution_count": 17,
   "id": "12c8c378",
   "metadata": {},
   "outputs": [
    {
     "data": {
      "text/plain": [
       "'sSCHGPQdQ04GNCMeZvPyHT1LjJDz9m0aqimlA1fwBitsw3qCiH1LGq8VsftjJJKs'"
      ]
     },
     "execution_count": 17,
     "metadata": {},
     "output_type": "execute_result"
    }
   ],
   "source": [
    "get_api_keys(\"binance\", \"api\")"
   ]
  },
  {
   "cell_type": "code",
   "execution_count": 18,
   "id": "e574217a",
   "metadata": {},
   "outputs": [],
   "source": [
    "# YOUR API KEYS HERE\n",
    "api_key = get_api_keys(\"binance\", \"api\")\n",
    "api_secret = get_api_keys(\"binance\", \"secret\")\n",
    "\n",
    "bclient = Client(api_key=api_key, api_secret=api_secret)\n",
    "\n",
    "start_date = datetime.datetime.strptime('1 Jan 2021', '%d %b %Y')\n",
    "today = datetime.datetime.today()\n",
    "\n",
    "def binanceBarExtractor(symbol):\n",
    "    print('working...')\n",
    "    filename = '{}_MinuteBars.csv'.format(symbol)\n",
    "\n",
    "    klines = bclient.get_historical_klines(symbol, Client.KLINE_INTERVAL_1MINUTE, start_date.strftime(\"%d %b %Y %H:%M:%S\"), today.strftime(\"%d %b %Y %H:%M:%S\"), 1000)\n",
    "    data = pd.DataFrame(klines, columns = ['timestamp', 'open', 'high', 'low', 'close', 'volume', 'close_time', 'quote_av', 'trades', 'tb_base_av', 'tb_quote_av', 'ignore' ])\n",
    "    data['timestamp'] = pd.to_datetime(data['timestamp'], unit='ms')\n",
    "\n",
    "    data.set_index('timestamp', inplace=True)\n",
    "    data.to_csv(filename)\n",
    "    print('finished!')"
   ]
  },
  {
   "cell_type": "code",
   "execution_count": 21,
   "id": "5c7c6fb3",
   "metadata": {},
   "outputs": [
    {
     "name": "stdout",
     "output_type": "stream",
     "text": [
      "working...\n",
      "finished!\n"
     ]
    }
   ],
   "source": [
    "binanceBarExtractor(\"BTCUSDT\")"
   ]
  },
  {
   "cell_type": "code",
   "execution_count": null,
   "id": "4ac32580",
   "metadata": {},
   "outputs": [],
   "source": []
  }
 ],
 "metadata": {
  "kernelspec": {
   "display_name": "Python 3",
   "language": "python",
   "name": "python3"
  },
  "language_info": {
   "codemirror_mode": {
    "name": "ipython",
    "version": 3
   },
   "file_extension": ".py",
   "mimetype": "text/x-python",
   "name": "python",
   "nbconvert_exporter": "python",
   "pygments_lexer": "ipython3",
   "version": "3.9.2"
  }
 },
 "nbformat": 4,
 "nbformat_minor": 5
}
