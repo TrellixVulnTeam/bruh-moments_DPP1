{
 "cells": [
  {
   "cell_type": "code",
   "execution_count": 1,
   "id": "2ab0d316",
   "metadata": {},
   "outputs": [],
   "source": [
    "import numpy as np"
   ]
  },
  {
   "cell_type": "code",
   "execution_count": 2,
   "id": "a5f00127",
   "metadata": {},
   "outputs": [],
   "source": [
    "def get_target(df, span=200, cutoff_at=False, only_one_buy=False):\n",
    "    \"\"\"returns target, span is how many days for mean\"\"\"\n",
    "    acc = []\n",
    "    df_len = len(df[\"close\"])\n",
    "\n",
    "    for i in range(len(df[\"close\"])):\n",
    "\n",
    "        if i+span < df_len:\n",
    "            m = np.mean(df[\"close\"][i+1:i+span])\n",
    "            acc.append(m-df[\"close\"][i])\n",
    "        else:\n",
    "            acc.append(None)\n",
    "\n",
    "    if cutoff_at:\n",
    "        acc = list(map(lambda x: 0 if x == None or x < cutoff_at else 1, acc))\n",
    "        if only_one_buy:\n",
    "            new_acc = []\n",
    "            prev = 0\n",
    "            for i in acc:\n",
    "                if i == 1 and prev == 0:\n",
    "                    new_acc.append(1)\n",
    "                    prev = 1\n",
    "                elif i == 0:\n",
    "                    new_acc.append(0)\n",
    "                    prev = 0\n",
    "                else:\n",
    "                    new_acc.append(i)\n",
    "            acc = new_acc\n",
    "\n",
    "    return acc"
   ]
  },
  {
   "cell_type": "code",
   "execution_count": 16,
   "id": "86015875",
   "metadata": {},
   "outputs": [],
   "source": [
    " \n",
    "a = [0, 0, 1, 1, 1, 0, 0, 1, 0, 0, 1, 1, 0]\n",
    "def test(acc):\n",
    "    new_acc = []\n",
    "    prev = 0\n",
    "    for i in acc:\n",
    "        if i == 1 and prev == 0:\n",
    "            print(f\"i is {i} and prev is {prev}, return 1\")\n",
    "            new_acc.append(1)\n",
    "            prev = 1\n",
    "        elif i == 0:\n",
    "            print(f\"i is {i} and prev is {prev}, return 0\")\n",
    "            new_acc.append(0)\n",
    "            prev = 0\n",
    "        else:\n",
    "            print(f\"i is {i} and prev is {prev}, return {i}\")\n",
    "            new_acc.append(0)\n",
    "    acc = new_acc\n",
    "    print(acc)"
   ]
  },
  {
   "cell_type": "code",
   "execution_count": 17,
   "id": "15363c1a",
   "metadata": {},
   "outputs": [
    {
     "name": "stdout",
     "output_type": "stream",
     "text": [
      "i is 0 and prev is 0, return 0\n",
      "i is 0 and prev is 0, return 0\n",
      "i is 1 and prev is 0, return 1\n",
      "i is 1 and prev is 1, return 1\n",
      "i is 1 and prev is 1, return 1\n",
      "i is 0 and prev is 1, return 0\n",
      "i is 0 and prev is 0, return 0\n",
      "i is 1 and prev is 0, return 1\n",
      "i is 0 and prev is 1, return 0\n",
      "i is 0 and prev is 0, return 0\n",
      "i is 1 and prev is 0, return 1\n",
      "i is 1 and prev is 1, return 1\n",
      "i is 0 and prev is 1, return 0\n",
      "[0, 0, 1, 0, 0, 0, 0, 1, 0, 0, 1, 0, 0]\n"
     ]
    }
   ],
   "source": [
    "test(a)"
   ]
  },
  {
   "cell_type": "code",
   "execution_count": null,
   "id": "be05ae1e",
   "metadata": {},
   "outputs": [],
   "source": []
  }
 ],
 "metadata": {
  "kernelspec": {
   "display_name": "Python 3",
   "language": "python",
   "name": "python3"
  },
  "language_info": {
   "codemirror_mode": {
    "name": "ipython",
    "version": 3
   },
   "file_extension": ".py",
   "mimetype": "text/x-python",
   "name": "python",
   "nbconvert_exporter": "python",
   "pygments_lexer": "ipython3",
   "version": "3.9.2"
  }
 },
 "nbformat": 4,
 "nbformat_minor": 5
}
