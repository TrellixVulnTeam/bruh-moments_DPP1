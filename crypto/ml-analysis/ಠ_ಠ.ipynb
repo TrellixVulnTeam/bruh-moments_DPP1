{
 "cells": [
  {
   "cell_type": "code",
   "execution_count": 3,
   "id": "1be0aab6",
   "metadata": {},
   "outputs": [],
   "source": [
    "def ಠ_ಠ():\n",
    "    print(\"ಠ_ಠ\")"
   ]
  },
  {
   "cell_type": "code",
   "execution_count": 4,
   "id": "2adee070",
   "metadata": {},
   "outputs": [
    {
     "name": "stdout",
     "output_type": "stream",
     "text": [
      "ಠ_ಠ\n"
     ]
    }
   ],
   "source": [
    "ಠ_ಠ()"
   ]
  },
  {
   "cell_type": "code",
   "execution_count": null,
   "id": "fc3ce028",
   "metadata": {},
   "outputs": [],
   "source": []
  }
 ],
 "metadata": {
  "kernelspec": {
   "display_name": "Python 3",
   "language": "python",
   "name": "python3"
  },
  "language_info": {
   "codemirror_mode": {
    "name": "ipython",
    "version": 3
   },
   "file_extension": ".py",
   "mimetype": "text/x-python",
   "name": "python",
   "nbconvert_exporter": "python",
   "pygments_lexer": "ipython3",
   "version": "3.9.2"
  }
 },
 "nbformat": 4,
 "nbformat_minor": 5
}
