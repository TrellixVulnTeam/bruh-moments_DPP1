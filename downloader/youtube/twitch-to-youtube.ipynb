{
 "cells": [
  {
   "cell_type": "markdown",
   "id": "7dbb0317",
   "metadata": {},
   "source": [
    "# Twitch clip to Youtube Uploader converter"
   ]
  },
  {
   "cell_type": "markdown",
   "id": "99c7475c",
   "metadata": {},
   "source": [
    "## What needs to be done and how:\n",
    "1. Downloads twitch clip to folder\n",
    "    - inputs: start, end, url\n",
    "2. Upload twitch clip to Youtube via api \n",
    "    - given title, etc\n",
    "3. Delete downloaded twitch clip"
   ]
  },
  {
   "cell_type": "markdown",
   "id": "dd5894c8",
   "metadata": {},
   "source": [
    "first run this: \n",
    "youtube-dl -g \"https://www.twitch.tv/videos/803103554\"\n",
    "Replace the url with a video you want\n",
    "Running it should give you a link that looks something like: \n",
    "https://d2nvs31859zcd8.cloudfront.net/e6cfa68bfaa437a7dd54_dreamwastaken_40486080750_1605384122/chunked/index-dvr.m3u8\n",
    "tell me if this works\n",
    "\n",
    "ffmpeg -ss 00:00:15.00 -i \"OUTPUT-OF-FIRST URL\" -t 00:00:10.00 -c copy out.mp4\n",
    "\n",
    "So replace the 00:00:15.00 with the what you want the start time to be. 00:00:15.00 starts 15 seconds into the video. To start 30 minutes into the video, use 00:30:00.00.\n",
    "\n",
    "Replace \"OUTPUT-OF-FIRST URL\" with the link you got from the first  with the first command run. \n",
    "\n",
    "Replace 00:00:10.00 with how long after the start time you want to have downloaded. So 00:00:10.00 makes a 10 second video. \n",
    "\n",
    "Then keep everything as is.\n",
    "And the video that you get will be called out.mp4"
   ]
  },
  {
   "cell_type": "code",
   "execution_count": 2,
   "id": "eba1fdc4",
   "metadata": {},
   "outputs": [],
   "source": [
    "import os\n",
    "import requests #requests is downloaded with pip3 install requests\n",
    "from bs4 import BeautifulSoup\n",
    "from bs4 import Comment\n",
    "import csv\n",
    "from datetime import date\n",
    "import json\n",
    "import pandas as pd"
   ]
  },
  {
   "cell_type": "code",
   "execution_count": 3,
   "id": "707dbbf5",
   "metadata": {},
   "outputs": [],
   "source": [
    "url = \"https://www.twitch.tv/videos/971552600\""
   ]
  },
  {
   "cell_type": "code",
   "execution_count": 5,
   "id": "138c3495",
   "metadata": {},
   "outputs": [
    {
     "data": {
      "text/plain": [
       "256"
      ]
     },
     "execution_count": 5,
     "metadata": {},
     "output_type": "execute_result"
    }
   ],
   "source": [
    "output = os.system(f\"youtube-dl -g \\\"{url}\\\"\")\n",
    "output"
   ]
  },
  {
   "cell_type": "code",
   "execution_count": null,
   "id": "68a3e116",
   "metadata": {},
   "outputs": [],
   "source": []
  }
 ],
 "metadata": {
  "kernelspec": {
   "display_name": "Python 3",
   "language": "python",
   "name": "python3"
  },
  "language_info": {
   "codemirror_mode": {
    "name": "ipython",
    "version": 3
   },
   "file_extension": ".py",
   "mimetype": "text/x-python",
   "name": "python",
   "nbconvert_exporter": "python",
   "pygments_lexer": "ipython3",
   "version": "3.9.2"
  }
 },
 "nbformat": 4,
 "nbformat_minor": 5
}
