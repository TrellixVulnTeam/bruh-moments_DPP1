{
 "cells": [
  {
   "cell_type": "markdown",
   "id": "71707cda",
   "metadata": {},
   "source": [
    "# Side projects"
   ]
  },
  {
   "cell_type": "markdown",
   "id": "576365fd",
   "metadata": {},
   "source": [
    "## New tasks"
   ]
  },
  {
   "cell_type": "code",
   "execution_count": null,
   "id": "07db1af0",
   "metadata": {},
   "outputs": [],
   "source": []
  },
  {
   "cell_type": "code",
   "execution_count": null,
   "id": "8610e8d6",
   "metadata": {},
   "outputs": [],
   "source": []
  }
 ],
 "metadata": {
  "kernelspec": {
   "display_name": "Python 3",
   "language": "python",
   "name": "python3"
  },
  "language_info": {
   "codemirror_mode": {
    "name": "ipython",
    "version": 3
   },
   "file_extension": ".py",
   "mimetype": "text/x-python",
   "name": "python",
   "nbconvert_exporter": "python",
   "pygments_lexer": "ipython3",
   "version": "3.9.2"
  }
 },
 "nbformat": 4,
 "nbformat_minor": 5
}
