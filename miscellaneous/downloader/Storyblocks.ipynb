{
 "cells": [
  {
   "cell_type": "code",
   "execution_count": 1,
   "metadata": {},
   "outputs": [],
   "source": [
    "import requests #requests is downloaded with pip3 install requests\n",
    "from bs4 import BeautifulSoup\n",
    "from bs4 import Comment\n",
    "import csv\n",
    "from datetime import date\n",
    "import json\n",
    "import os\n",
    "import pandas as pd"
   ]
  },
  {
   "cell_type": "code",
   "execution_count": 2,
   "metadata": {},
   "outputs": [],
   "source": [
    "def get_soup_object(url: str) -> BeautifulSoup:\n",
    "    \"\"\"\n",
    "    returns a BeautifulSoup object\n",
    "    \"\"\"\n",
    "    headers = {'User-Agent':'Mozilla/5.0 (Macintosh; Intel Mac OS X 10_11_2) AppleWebKit/601.3.9 (KHTML, like Gecko) Version/9.0.2 Safari/601.3.9'}\n",
    "    print(\"Requesting access...\", end='\\r')\n",
    "    res = requests.get(url, headers=headers)\n",
    "    print(str(res)+\"        \")\n",
    "\n",
    "    return BeautifulSoup(res.text, 'html.parser')"
   ]
  },
  {
   "cell_type": "code",
   "execution_count": 3,
   "metadata": {},
   "outputs": [],
   "source": [
    "def convert_list_to_csv(column_titles: [list], body: [list], name: str):\n",
    "    \"\"\"\n",
    "    returns nothing. Converts arguments into a saved .csv in same folder as scrape.py\n",
    "    \"\"\"\n",
    "    print(\"Converting to .csv\")\n",
    "    with open(name + \".csv\", 'w') as myfile:\n",
    "        wr = csv.writer(myfile, quoting=csv.QUOTE_ALL)\n",
    "        wr.writerow(column_titles)\n",
    "        wr.writerows(body)\n",
    "    print(\"Success!\")"
   ]
  },
  {
   "cell_type": "code",
   "execution_count": 4,
   "metadata": {},
   "outputs": [],
   "source": [
    "def copy_name(data:str):\n",
    "    \n",
    "    text = str(data[find_nth(data, \"/\", data.count(\"/\"))+1:data.find(\".mp3\")])\n",
    "    df=pd.DataFrame([text])\n",
    "    df.to_clipboard(index=False,header=False)\n",
    "    \n",
    "def find_nth(haystack, needle, n):\n",
    "    start = haystack.find(needle)\n",
    "    while start >= 0 and n > 1:\n",
    "        start = haystack.find(needle, start+len(needle))\n",
    "        n -= 1\n",
    "    return start"
   ]
  },
  {
   "cell_type": "code",
   "execution_count": 5,
   "metadata": {},
   "outputs": [
    {
     "name": "stdout",
     "output_type": "stream",
     "text": [
      "Please enter url (No sorting needed ie. don't add sort=top, etc)\n",
      "https://www.storyblocks.com/audio/stock/lake-rvr2toushk2w6uy10.html\n",
      "<Response [200]>        \n",
      "URL:\n",
      "https://dm0qx8t0i9gc9.cloudfront.net/previews/audio/S6leE__oHk2w5z3wa/audioblocks-lake_Bu3jYd_jS_NWM.mp3\n",
      "Success!            \n"
     ]
    }
   ],
   "source": [
    "today = date.today()\n",
    "url = input(\"Please enter url (No sorting needed ie. don't add sort=top, etc)\\n\")\n",
    "soup = get_soup_object(url)\n",
    "# print(len(str(soup(\"script\")[10])))\n",
    "script = str(soup(\"script\"))\n",
    "\n",
    "start = script.find('\"previewUrl\"')\n",
    "end = script.find('NWM.mp3\"')\n",
    "new_json = \"{\" + script[start:end+8] + \"}\"\n",
    "# print(f\"start is {start}, and end is {end} and json is {new_json}\")\n",
    "data = json.loads(new_json)[\"previewUrl\"]\n",
    "print(\"URL:\")\n",
    "print(data)\n",
    "print(\"Downloading Url...\", end='\\r')\n",
    "os.system(f'youtube-dl -o \"/Volumes/Storage/Youtube/MC_Highlights/MusicAudio/%(title)s.%(ext)s\" \"{data}\"')\n",
    "copy_name(data)\n",
    "print(\"Success!            \")\n"
   ]
  },
  {
   "cell_type": "code",
   "execution_count": null,
   "metadata": {},
   "outputs": [],
   "source": []
  }
 ],
 "metadata": {
  "kernelspec": {
   "display_name": "Python 3",
   "language": "python",
   "name": "python3"
  },
  "language_info": {
   "codemirror_mode": {
    "name": "ipython",
    "version": 3
   },
   "file_extension": ".py",
   "mimetype": "text/x-python",
   "name": "python",
   "nbconvert_exporter": "python",
   "pygments_lexer": "ipython3",
   "version": "3.9.2"
  }
 },
 "nbformat": 4,
 "nbformat_minor": 4
}
