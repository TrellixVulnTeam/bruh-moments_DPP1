{
 "cells": [
  {
   "cell_type": "markdown",
   "id": "ac6165cd",
   "metadata": {},
   "source": [
    "# Course Schedule III\n",
    "## `learning required`"
   ]
  },
  {
   "cell_type": "markdown",
   "id": "21ef5e29",
   "metadata": {},
   "source": [
    "There are n different online courses numbered from 1 to n. You are given an array courses where courses[i] = [durationi, lastDayi] indicate that the ith course should be taken continuously for durationi days and must be finished before or on lastDayi.\n",
    "\n",
    "You will start on the 1st day and you cannot take two or more courses simultaneously.\n",
    "\n",
    "Return the maximum number of courses that you can take."
   ]
  },
  {
   "cell_type": "code",
   "execution_count": 167,
   "id": "3d5379da",
   "metadata": {},
   "outputs": [],
   "source": [
    "def max_courses(loc)->int:\n",
    "    \"\"\"returns the max number of courses possible\"\"\"\n",
    "    sorted_loc = sorted(loc)\n",
    "    maximum = sorted(loc, key = lambda x:x[1])[-1][1]\n",
    "    acc = 0\n",
    "    pos = 0\n",
    "    for c in sorted_loc:\n",
    "        if (acc + c[0]) < maximum:\n",
    "            acc += c[0]\n",
    "            pos += 1\n",
    "        else:\n",
    "            return pos\n",
    "    return pos\n",
    "            \n",
    "        \n",
    "        "
   ]
  },
  {
   "cell_type": "code",
   "execution_count": 196,
   "id": "a832d95c",
   "metadata": {},
   "outputs": [
    {
     "data": {
      "text/plain": [
       "[[333, 712],\n",
       " [86, 957],\n",
       " [34, 3903],\n",
       " [835, 5040],\n",
       " [163, 5455],\n",
       " [466, 5775],\n",
       " [600, 6941],\n",
       " [913, 7394],\n",
       " [303, 7525],\n",
       " [316, 7755],\n",
       " [417, 8249],\n",
       " [905, 8433],\n",
       " [718, 8485],\n",
       " [582, 8658],\n",
       " [40, 9152],\n",
       " [921, 9553],\n",
       " [914, 9927],\n",
       " [380, 9996]]"
      ]
     },
     "execution_count": 196,
     "metadata": {},
     "output_type": "execute_result"
    }
   ],
   "source": [
    "a = [[914,9927],[333,712],[163,5455],[835,5040],[905,8433],[417,8249],[921,9553],[913,7394],[303,7525],[582,8658],[86,957],[40,9152],[600,6941],[466,5775],[718,8485],[34,3903],[380,9996],[316,7755]]\n",
    "courses = sorted(a, key = lambda x:x[1])\n",
    "b = a.sort(key = lambda x:x[1])\n",
    "# a[-1][1]\n",
    "b\n",
    "courses\n",
    "    \n",
    "    \n",
    "    "
   ]
  },
  {
   "cell_type": "code",
   "execution_count": 169,
   "id": "d5dd4596",
   "metadata": {},
   "outputs": [
    {
     "data": {
      "text/plain": [
       "18"
      ]
     },
     "execution_count": 169,
     "metadata": {},
     "output_type": "execute_result"
    }
   ],
   "source": [
    "max_courses(a)"
   ]
  },
  {
   "cell_type": "code",
   "execution_count": 208,
   "id": "ce679542",
   "metadata": {},
   "outputs": [],
   "source": [
    "import heapq"
   ]
  },
  {
   "cell_type": "code",
   "execution_count": 244,
   "id": "b9fcf35c",
   "metadata": {},
   "outputs": [
    {
     "name": "stdout",
     "output_type": "stream",
     "text": [
      "false\n"
     ]
    }
   ],
   "source": [
    "if []:\n",
    "    print(\"hi\")\n",
    "else:\n",
    "    print(\"false\")"
   ]
  },
  {
   "cell_type": "markdown",
   "id": "bfa59766",
   "metadata": {},
   "source": [
    "## Solution (not completely my own work)\n",
    "\n",
    "### NEED TO COMPLETELY UNDERSTAND HOW AND WHY THIS WORKS"
   ]
  },
  {
   "cell_type": "code",
   "execution_count": 245,
   "id": "01086677",
   "metadata": {},
   "outputs": [
    {
     "data": {
      "text/plain": [
       "2"
      ]
     },
     "execution_count": 245,
     "metadata": {},
     "output_type": "execute_result"
    }
   ],
   "source": [
    "\n",
    "def scheduleCourse(courses: list[list[int]]) -> int:\n",
    "    heap = []\n",
    "    total = 0\n",
    "    for dur, last in sorted(courses, key=lambda x: x[1]):\n",
    "#         print(heap)\n",
    "#         print(total)\n",
    "        if dur + total <= last:\n",
    "#             print(\"used first\")\n",
    "            total += dur\n",
    "            heapq.heappush(heap, -dur)\n",
    "        elif heap and dur < -heap[0]:\n",
    "#             print(\"used second\")\n",
    "            total += (dur + heapq.heappop(heap))\n",
    "            heapq.heappush(heap, -dur)\n",
    "#     print(heap)\n",
    "    return len(heap)\n",
    "scheduleCourse([[5,5],[4,6],[2,6]])\n"
   ]
  },
  {
   "cell_type": "code",
   "execution_count": null,
   "id": "51bda5c7",
   "metadata": {},
   "outputs": [],
   "source": []
  },
  {
   "cell_type": "markdown",
   "id": "e2d7de94",
   "metadata": {},
   "source": [
    "## My own solution based on brute-forcing and off of CPSC 107 material\n",
    "\n",
    "Should be working. There is a test that doesn't work, which is kinda whack. Then I started adding cases for each odd case and now it's basically unreadable. \n",
    "\n",
    "But despite that, I learned a ton, even if my code doesn't work. One thing I learned is that you can have recursive functions in Python! Who knew. Yeah, right now feeling kinda down, spent this whole afternoon and evening on this problem, only to end up basing my solution on someone else's code. Feels bad man. \n",
    "\n",
    "Anyway, ... argh, feeling irritated in 'the gap'. "
   ]
  },
  {
   "cell_type": "code",
   "execution_count": 197,
   "id": "c4cc75cc",
   "metadata": {},
   "outputs": [],
   "source": [
    "def scheduleCourse(courses: list[list[int]]) -> int:\n",
    "    courses = sorted(courses, key = lambda x:x[1])\n",
    "    lengths = []\n",
    "#     if len(courses) > 10\n",
    "    maximum = max_courses(courses)\n",
    "    cd = {\"added\":[], \"remaining\":courses, \"skipped\":[]}\n",
    "    def schedule_course(cd): \n",
    "        f_cd = filter_cd(cd)\n",
    "        if len(cd[\"added\"]) == maximum:\n",
    "            return maximum\n",
    "        if f_cd[\"remaining\"] == []:\n",
    "            lengths.append(len(cd[\"added\"]))\n",
    "        else:\n",
    "            schedule_course(pick_first(f_cd))\n",
    "            schedule_course(skip_first(f_cd))\n",
    "    schedule_course(cd)\n",
    "    return max(lengths)\n",
    "\n",
    "def pick_first(cd):\n",
    "    return {\"added\":cd[\"added\"]+[cd[\"remaining\"][0]], \n",
    "            \"remaining\":cd[\"remaining\"][1:]+cd[\"skipped\"],\n",
    "            \"skipped\":[]}\n",
    "def skip_first(cd):\n",
    "    return {\"added\":cd[\"added\"], \n",
    "            \"remaining\":cd[\"remaining\"][1:],\n",
    "            \"skipped\":cd[\"skipped\"] + [cd[\"remaining\"][0]]}\n",
    "def filter_cd(cd):\n",
    "    \"\"\"returns the cd where all courses in 'remaining' are elgible\"\"\"\n",
    "    new_cd = {\"added\":cd[\"added\"], \"remaining\":[], \"skipped\":[]}\n",
    "    spent = total_time(cd)\n",
    "    for course in cd[\"remaining\"]:\n",
    "        if course[1] >= (course[0] + spent):\n",
    "            new_cd[\"remaining\"].append(course)\n",
    "    for course in cd[\"skipped\"]:\n",
    "        if course[1] >= (course[0] + spent):\n",
    "            new_cd[\"skipped\"].append(course)    \n",
    "\n",
    "    return new_cd\n",
    "\n",
    "def filter_loc(loc, t):\n",
    "    filter(lambda c: c[1]>=(spent+c[0]), loc)\n",
    "        \n",
    "def total_time(cd):\n",
    "    \"\"\"returns the total time in 'added'\"\"\"\n",
    "    if cd[\"added\"] == []:\n",
    "        return 0\n",
    "    else: \n",
    "        return sum(list(map(lambda n: n[0], cd[\"added\"])))\n",
    "    \n",
    "    \n",
    "def max_courses(loc)->int:\n",
    "    \"\"\"returns the max number of courses possible\"\"\"\n",
    "    sorted_loc = sorted(loc)\n",
    "    maximum = sorted(loc, key = lambda x:x[1])[-1][1]\n",
    "    acc = 0\n",
    "    pos = 0\n",
    "    for c in sorted_loc:\n",
    "        if (acc + c[0]) < maximum:\n",
    "            acc += c[0]\n",
    "            pos += 1\n",
    "        else:\n",
    "            return pos\n",
    "    return pos\n",
    "        "
   ]
  },
  {
   "cell_type": "code",
   "execution_count": 198,
   "id": "4eca2726",
   "metadata": {},
   "outputs": [
    {
     "data": {
      "text/plain": [
       "False"
      ]
     },
     "execution_count": 198,
     "metadata": {},
     "output_type": "execute_result"
    }
   ],
   "source": [
    "4 > (3+3)"
   ]
  },
  {
   "cell_type": "code",
   "execution_count": 199,
   "id": "a785da2f",
   "metadata": {},
   "outputs": [
    {
     "data": {
      "text/plain": [
       "9"
      ]
     },
     "execution_count": 199,
     "metadata": {},
     "output_type": "execute_result"
    }
   ],
   "source": [
    "scheduleCourse([[914,9927],[333,712],[163,5455],[835,5040],[905,8433],[417,8249],[921,9553],[913,7394],[303,7525],[582,8658]])\n",
    "\n"
   ]
  },
  {
   "cell_type": "code",
   "execution_count": 36,
   "id": "a6b1c90e",
   "metadata": {},
   "outputs": [
    {
     "ename": "TypeError",
     "evalue": "list indices must be integers or slices, not str",
     "output_type": "error",
     "traceback": [
      "\u001b[0;31m---------------------------------------------------------------------------\u001b[0m",
      "\u001b[0;31mTypeError\u001b[0m                                 Traceback (most recent call last)",
      "\u001b[0;32m<ipython-input-36-90c1a6ee3b4c>\u001b[0m in \u001b[0;36m<module>\u001b[0;34m\u001b[0m\n\u001b[0;32m----> 1\u001b[0;31m \u001b[0mtotal_time\u001b[0m\u001b[0;34m(\u001b[0m\u001b[0;34m[\u001b[0m\u001b[0;34m]\u001b[0m\u001b[0;34m)\u001b[0m\u001b[0;34m\u001b[0m\u001b[0;34m\u001b[0m\u001b[0m\n\u001b[0m",
      "\u001b[0;32m<ipython-input-34-b344a1c0a952>\u001b[0m in \u001b[0;36mtotal_time\u001b[0;34m(cd)\u001b[0m\n\u001b[1;32m     32\u001b[0m \u001b[0;32mdef\u001b[0m \u001b[0mtotal_time\u001b[0m\u001b[0;34m(\u001b[0m\u001b[0mcd\u001b[0m\u001b[0;34m)\u001b[0m\u001b[0;34m:\u001b[0m\u001b[0;34m\u001b[0m\u001b[0;34m\u001b[0m\u001b[0m\n\u001b[1;32m     33\u001b[0m     \u001b[0;34m\"\"\"returns the total time in 'added'\"\"\"\u001b[0m\u001b[0;34m\u001b[0m\u001b[0;34m\u001b[0m\u001b[0m\n\u001b[0;32m---> 34\u001b[0;31m     \u001b[0;32mif\u001b[0m \u001b[0mcd\u001b[0m\u001b[0;34m[\u001b[0m\u001b[0;34m\"remaining\"\u001b[0m\u001b[0;34m]\u001b[0m\u001b[0;34m:\u001b[0m\u001b[0;34m\u001b[0m\u001b[0;34m\u001b[0m\u001b[0m\n\u001b[0m\u001b[1;32m     35\u001b[0m         \u001b[0;32mreturn\u001b[0m \u001b[0;36m0\u001b[0m\u001b[0;34m\u001b[0m\u001b[0;34m\u001b[0m\u001b[0m\n\u001b[1;32m     36\u001b[0m     \u001b[0;32melse\u001b[0m\u001b[0;34m:\u001b[0m\u001b[0;34m\u001b[0m\u001b[0;34m\u001b[0m\u001b[0m\n",
      "\u001b[0;31mTypeError\u001b[0m: list indices must be integers or slices, not str"
     ]
    }
   ],
   "source": [
    "total_time([])"
   ]
  },
  {
   "cell_type": "code",
   "execution_count": null,
   "id": "78acf899",
   "metadata": {},
   "outputs": [],
   "source": [
    "# def can_fill_more_courses(cd):\n",
    "#     \"\"\"\n",
    "#     return True if can fill more courses to course dictionary 'added'\n",
    "#     \"\"\"\n",
    "#     for course in remaining:\n",
    "#         if course[1] > (course[0] + total_time(cd)):\n",
    "#             return True\n",
    "#     return False"
   ]
  },
  {
   "cell_type": "code",
   "execution_count": 16,
   "id": "584dcb4f",
   "metadata": {},
   "outputs": [
    {
     "data": {
      "text/plain": [
       "6"
      ]
     },
     "execution_count": 16,
     "metadata": {},
     "output_type": "execute_result"
    }
   ],
   "source": [
    "sum(list(map(first, a)))"
   ]
  },
  {
   "cell_type": "code",
   "execution_count": null,
   "id": "04d7c408",
   "metadata": {},
   "outputs": [],
   "source": [
    "def create_itinerary(loe, n):\n",
    "    def create_itinerary1(s):\n",
    "        sum1 = total_price(s[0])\n",
    "        if sum1 == n:\n",
    "            return s[0]\n",
    "        elif sum1>n:\n",
    "            return false\n",
    "        elif s[1]=[]:\n",
    "            return false\n",
    "        else:\n",
    "            try1 = create_itinerary1(pick_first(s))\n",
    "            if try1 != False:\n",
    "                return try1\n",
    "            else:\n",
    "                return create_itinerary1(skip_first(s))\n",
    "        def total_price(loe):\n",
    "            pass\n",
    "            # Sums up total price\n",
    "        def pick_first(s):\n",
    "            # Make a new list where picked is added subtracted from 'rest'\n",
    "        "
   ]
  },
  {
   "cell_type": "code",
   "execution_count": 5,
   "id": "2c826639",
   "metadata": {},
   "outputs": [],
   "source": [
    "def test(n):\n",
    "    if n == []:\n",
    "        return \"\"\n",
    "    else: \n",
    "        return str(n[0]) + test(n[1:])"
   ]
  },
  {
   "cell_type": "code",
   "execution_count": 6,
   "id": "9d750cdc",
   "metadata": {},
   "outputs": [
    {
     "data": {
      "text/plain": [
       "'123'"
      ]
     },
     "execution_count": 6,
     "metadata": {},
     "output_type": "execute_result"
    }
   ],
   "source": [
    "test([1, 2, 3])"
   ]
  },
  {
   "cell_type": "code",
   "execution_count": null,
   "id": "9aec427b",
   "metadata": {},
   "outputs": [],
   "source": [
    "## Exercise, translating racket to python\n",
    "(define (create-itinerary loe n)\n",
    "  (local [(define (create-itinerary s)\n",
    "            (local [(define sum (total-price (state-todo s)))]\n",
    "              (cond [(= sum n) (state-todo s)]\n",
    "                    [(> sum n) false] ; This is not necessary. Stop searching \n",
    "                                      ; if sum of prices is already too high.\n",
    "                    [(empty? (state-wishlist s)) false]\n",
    "                    [else\n",
    "                     (local [(define try (create-itinerary (pick-first s)))]\n",
    "                       (if (not (false? try))\n",
    "                           try\n",
    "                           (create-itinerary (skip-first s))))])))\n",
    "\n",
    "          (define (total-price loe) ; (foldr + 0 (map experience-price loe))\n",
    "            (cond [(empty? loe) 0]\n",
    "                  [else\n",
    "                   (+ (experience-price (first loe))\n",
    "                      (total-price (rest loe)))]))\n",
    "\n",
    "          (define (pick-first s)\n",
    "            (make-state (cons (first (state-wishlist s)) (state-todo s))\n",
    "                        (rest (state-wishlist s))))\n",
    "\n",
    "          (define (skip-first s)\n",
    "            (make-state (state-todo s) (rest (state-wishlist s))))]\n",
    "    \n",
    "    (create-itinerary (make-state empty loe))))"
   ]
  },
  {
   "cell_type": "code",
   "execution_count": null,
   "id": "e2f5aa60",
   "metadata": {},
   "outputs": [],
   "source": [
    "def create_itinerary(loe, n):\n",
    "    def create_itinerary1(s):\n",
    "        sum1 = total_price(s[0])\n",
    "        if sum1 == n:\n",
    "            return s[0]\n",
    "        elif sum1>n:\n",
    "            return false\n",
    "        elif s[1]=[]:\n",
    "            return false\n",
    "        else:\n",
    "            try1 = create_itinerary1(pick_first(s))\n",
    "            if try1 != False:\n",
    "                return try1\n",
    "            else:\n",
    "                return create_itinerary1(skip_first(s))\n",
    "        def total_price(loe):\n",
    "            pass\n",
    "            # Sums up total price\n",
    "        def pick_first(s):\n",
    "            # Make a new list where picked is added subtracted from 'rest'\n",
    "        "
   ]
  }
 ],
 "metadata": {
  "kernelspec": {
   "display_name": "Python 3",
   "language": "python",
   "name": "python3"
  },
  "language_info": {
   "codemirror_mode": {
    "name": "ipython",
    "version": 3
   },
   "file_extension": ".py",
   "mimetype": "text/x-python",
   "name": "python",
   "nbconvert_exporter": "python",
   "pygments_lexer": "ipython3",
   "version": "3.9.2"
  }
 },
 "nbformat": 4,
 "nbformat_minor": 5
}
