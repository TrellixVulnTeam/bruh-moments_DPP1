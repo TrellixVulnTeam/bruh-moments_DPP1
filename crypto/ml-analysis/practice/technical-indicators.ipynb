{
 "cells": [
  {
   "cell_type": "markdown",
   "id": "61f4ba13",
   "metadata": {},
   "source": [
    "# Technical indicators\n",
    "\n",
    "Purpose: testing out the technical indicators [package](https://github.com/bukosabino/ta)"
   ]
  },
  {
   "cell_type": "code",
   "execution_count": 8,
   "id": "c60b83c4",
   "metadata": {},
   "outputs": [],
   "source": [
    "# Imports\n",
    "import pandas as pd\n",
    "from ta import add_all_ta_features\n",
    "from ta.utils import dropna\n"
   ]
  },
  {
   "cell_type": "code",
   "execution_count": 5,
   "id": "4a4232d7",
   "metadata": {},
   "outputs": [
    {
     "name": "stderr",
     "output_type": "stream",
     "text": [
      "/Volumes/Storage/Programming/sideprojects/env/lib/python3.9/site-packages/ta/trend.py:768: RuntimeWarning: invalid value encountered in double_scalars\n",
      "  dip[i] = 100 * (self._dip[i] / self._trs[i])\n",
      "/Volumes/Storage/Programming/sideprojects/env/lib/python3.9/site-packages/ta/trend.py:772: RuntimeWarning: invalid value encountered in double_scalars\n",
      "  din[i] = 100 * (self._din[i] / self._trs[i])\n"
     ]
    }
   ],
   "source": [
    "# Load datas\n",
    "df = pd.read_csv('../data/BTCUSDT-hour.csv', sep=',')\n",
    "\n",
    "# Clean NaN values\n",
    "df = dropna(df)\n",
    "\n",
    "# Add all ta features\n",
    "df = add_all_ta_features(\n",
    "    df, open=\"open\", high=\"high\", low=\"low\", close=\"close\", volume=\"volume\")"
   ]
  },
  {
   "cell_type": "code",
   "execution_count": 6,
   "id": "b6f0e147",
   "metadata": {},
   "outputs": [],
   "source": [
    "df.to_csv(\"test.csv\")"
   ]
  },
  {
   "cell_type": "code",
   "execution_count": null,
   "id": "5cbe78bb",
   "metadata": {},
   "outputs": [],
   "source": []
  }
 ],
 "metadata": {
  "kernelspec": {
   "display_name": "Python 3",
   "language": "python",
   "name": "python3"
  },
  "language_info": {
   "codemirror_mode": {
    "name": "ipython",
    "version": 3
   },
   "file_extension": ".py",
   "mimetype": "text/x-python",
   "name": "python",
   "nbconvert_exporter": "python",
   "pygments_lexer": "ipython3",
   "version": "3.9.2"
  }
 },
 "nbformat": 4,
 "nbformat_minor": 5
}
