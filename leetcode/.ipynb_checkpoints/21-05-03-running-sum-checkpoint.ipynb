{
 "cells": [
  {
   "cell_type": "markdown",
   "id": "1a19d4b7",
   "metadata": {},
   "source": [
    "# Running sum (EASY)"
   ]
  },
  {
   "cell_type": "markdown",
   "id": "4bb1f67c",
   "metadata": {},
   "source": [
    "## Prompt\n",
    "Given an array nums. We define a running sum of an array as runningSum[i] = sum(nums[0]…nums[i]).\n",
    "\n",
    "Return the running sum of nums."
   ]
  },
  {
   "cell_type": "markdown",
   "id": "92823acd",
   "metadata": {},
   "source": [
    "## Solution"
   ]
  },
  {
   "cell_type": "code",
   "execution_count": 1,
   "id": "761b0cb6",
   "metadata": {},
   "outputs": [],
   "source": [
    "def runningSum(nums: list[int]) -> list[int]:\n",
    "    rsf = []\n",
    "    tsf = 0 #Total so far, accumulator for updating\n",
    "    for n in nums:\n",
    "        tsf += n\n",
    "        rsf.append(tsf)\n",
    "    return rsf"
   ]
  },
  {
   "cell_type": "markdown",
   "id": "552de19d",
   "metadata": {},
   "source": [
    "## Rough work"
   ]
  },
  {
   "cell_type": "code",
   "execution_count": 4,
   "id": "e4b8e2db",
   "metadata": {},
   "outputs": [
    {
     "data": {
      "text/plain": [
       "[3, 4, 6, 16, 17]"
      ]
     },
     "execution_count": 4,
     "metadata": {},
     "output_type": "execute_result"
    }
   ],
   "source": [
    "runningSum([3,1,2,10,1])"
   ]
  },
  {
   "cell_type": "code",
   "execution_count": null,
   "id": "bf0b1313",
   "metadata": {},
   "outputs": [],
   "source": []
  }
 ],
 "metadata": {
  "kernelspec": {
   "display_name": "Python 3",
   "language": "python",
   "name": "python3"
  },
  "language_info": {
   "codemirror_mode": {
    "name": "ipython",
    "version": 3
   },
   "file_extension": ".py",
   "mimetype": "text/x-python",
   "name": "python",
   "nbconvert_exporter": "python",
   "pygments_lexer": "ipython3",
   "version": "3.9.2"
  }
 },
 "nbformat": 4,
 "nbformat_minor": 5
}
